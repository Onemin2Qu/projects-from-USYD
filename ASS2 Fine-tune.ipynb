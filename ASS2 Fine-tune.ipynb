{
 "cells": [
  {
   "cell_type": "markdown",
   "metadata": {
    "id": "GUB6rMSFqJOS"
   },
   "source": [
    "**COMP5318Assignment2-Binaray Classification on Sentiment140**\n",
    "\n",
    "Group 84,SID1:  SID2:"
   ]
  },
  {
   "cell_type": "markdown",
   "metadata": {
    "id": "8tOQEnAarJHO"
   },
   "source": [
    "**1.Import libraries related**"
   ]
  },
  {
   "cell_type": "code",
   "execution_count": 2,
   "metadata": {
    "colab": {
     "base_uri": "https://localhost:8080/"
    },
    "id": "fb8GchKoj5Ak",
    "outputId": "f502832f-4de8-484d-c06d-09597d30b6c2"
   },
   "outputs": [
    {
     "name": "stdout",
     "output_type": "stream",
     "text": [
      "Mounted at /content/drive\n"
     ]
    }
   ],
   "source": [
    "from google.colab import drive\n",
    "drive.mount('/content/drive')"
   ]
  },
  {
   "cell_type": "code",
   "execution_count": 3,
   "metadata": {
    "colab": {
     "base_uri": "https://localhost:8080/"
    },
    "id": "o-u8bj0JHRgU",
    "outputId": "057c9fce-e612-4d75-e288-d4115dcd29ec"
   },
   "outputs": [
    {
     "name": "stdout",
     "output_type": "stream",
     "text": [
      "Requirement already satisfied: pandas in c:\\pf\\anaconda\\envs\\comp\\lib\\site-packages (2.0.1)\n",
      "Requirement already satisfied: numpy in c:\\pf\\anaconda\\envs\\comp\\lib\\site-packages (1.24.3)\n",
      "Requirement already satisfied: nltk in c:\\pf\\anaconda\\envs\\comp\\lib\\site-packages (3.8.1)\n",
      "Requirement already satisfied: scikit-learn in c:\\pf\\anaconda\\envs\\comp\\lib\\site-packages (1.2.2)\n",
      "Requirement already satisfied: tensorflow in c:\\pf\\anaconda\\envs\\comp\\lib\\site-packages (2.10.0)\n",
      "Requirement already satisfied: keras-tuner in c:\\pf\\anaconda\\envs\\comp\\lib\\site-packages (1.3.5)\n",
      "Requirement already satisfied: python-dateutil>=2.8.2 in c:\\pf\\anaconda\\envs\\comp\\lib\\site-packages (from pandas) (2.8.2)\n",
      "Requirement already satisfied: pytz>=2020.1 in c:\\pf\\anaconda\\envs\\comp\\lib\\site-packages (from pandas) (2023.3)\n",
      "Requirement already satisfied: tzdata>=2022.1 in c:\\pf\\anaconda\\envs\\comp\\lib\\site-packages (from pandas) (2023.3)\n",
      "Requirement already satisfied: click in c:\\pf\\anaconda\\envs\\comp\\lib\\site-packages (from nltk) (8.1.3)\n",
      "Requirement already satisfied: regex>=2021.8.3 in c:\\pf\\anaconda\\envs\\comp\\lib\\site-packages (from nltk) (2023.5.5)\n",
      "Requirement already satisfied: tqdm in c:\\pf\\anaconda\\envs\\comp\\lib\\site-packages (from nltk) (4.65.0)\n",
      "Requirement already satisfied: joblib in c:\\pf\\anaconda\\envs\\comp\\lib\\site-packages (from nltk) (1.2.0)\n",
      "Requirement already satisfied: scipy>=1.3.2 in c:\\pf\\anaconda\\envs\\comp\\lib\\site-packages (from scikit-learn) (1.10.1)\n",
      "Requirement already satisfied: threadpoolctl>=2.0.0 in c:\\pf\\anaconda\\envs\\comp\\lib\\site-packages (from scikit-learn) (3.1.0)\n",
      "Requirement already satisfied: tensorflow-io-gcs-filesystem>=0.23.1 in c:\\pf\\anaconda\\envs\\comp\\lib\\site-packages (from tensorflow) (0.31.0)\n",
      "Requirement already satisfied: protobuf<3.20,>=3.9.2 in c:\\pf\\anaconda\\envs\\comp\\lib\\site-packages (from tensorflow) (3.19.6)\n",
      "Requirement already satisfied: h5py>=2.9.0 in c:\\pf\\anaconda\\envs\\comp\\lib\\site-packages (from tensorflow) (3.7.0)\n",
      "Requirement already satisfied: gast<=0.4.0,>=0.2.1 in c:\\pf\\anaconda\\envs\\comp\\lib\\site-packages (from tensorflow) (0.4.0)\n",
      "Requirement already satisfied: google-pasta>=0.1.1 in c:\\pf\\anaconda\\envs\\comp\\lib\\site-packages (from tensorflow) (0.2.0)\n",
      "Requirement already satisfied: packaging in c:\\pf\\anaconda\\envs\\comp\\lib\\site-packages (from tensorflow) (23.0)\n",
      "Requirement already satisfied: tensorboard<2.11,>=2.10 in c:\\pf\\anaconda\\envs\\comp\\lib\\site-packages (from tensorflow) (2.10.0)\n",
      "Requirement already satisfied: keras-preprocessing>=1.1.1 in c:\\pf\\anaconda\\envs\\comp\\lib\\site-packages (from tensorflow) (1.1.2)\n",
      "Requirement already satisfied: libclang>=13.0.0 in c:\\pf\\anaconda\\envs\\comp\\lib\\site-packages (from tensorflow) (16.0.0)\n",
      "Requirement already satisfied: grpcio<2.0,>=1.24.3 in c:\\pf\\anaconda\\envs\\comp\\lib\\site-packages (from tensorflow) (1.48.2)\n",
      "Requirement already satisfied: astunparse>=1.6.0 in c:\\pf\\anaconda\\envs\\comp\\lib\\site-packages (from tensorflow) (1.6.3)\n",
      "Requirement already satisfied: wrapt>=1.11.0 in c:\\pf\\anaconda\\envs\\comp\\lib\\site-packages (from tensorflow) (1.14.1)\n",
      "Requirement already satisfied: setuptools in c:\\pf\\anaconda\\envs\\comp\\lib\\site-packages (from tensorflow) (66.0.0)\n",
      "Requirement already satisfied: flatbuffers>=2.0 in c:\\pf\\anaconda\\envs\\comp\\lib\\site-packages (from tensorflow) (2.0)\n",
      "Requirement already satisfied: tensorflow-estimator<2.11,>=2.10.0 in c:\\pf\\anaconda\\envs\\comp\\lib\\site-packages (from tensorflow) (2.10.0)\n",
      "Requirement already satisfied: keras<2.11,>=2.10.0 in c:\\pf\\anaconda\\envs\\comp\\lib\\site-packages (from tensorflow) (2.10.0)\n",
      "Requirement already satisfied: opt-einsum>=2.3.2 in c:\\pf\\anaconda\\envs\\comp\\lib\\site-packages (from tensorflow) (3.3.0)\n",
      "Requirement already satisfied: absl-py>=1.0.0 in c:\\pf\\anaconda\\envs\\comp\\lib\\site-packages (from tensorflow) (1.3.0)\n",
      "Requirement already satisfied: termcolor>=1.1.0 in c:\\pf\\anaconda\\envs\\comp\\lib\\site-packages (from tensorflow) (2.1.0)\n",
      "Requirement already satisfied: typing-extensions>=3.6.6 in c:\\pf\\anaconda\\envs\\comp\\lib\\site-packages (from tensorflow) (4.5.0)\n",
      "Requirement already satisfied: six>=1.12.0 in c:\\pf\\anaconda\\envs\\comp\\lib\\site-packages (from tensorflow) (1.16.0)\n",
      "Requirement already satisfied: kt-legacy in c:\\pf\\anaconda\\envs\\comp\\lib\\site-packages (from keras-tuner) (1.0.5)\n",
      "Requirement already satisfied: requests in c:\\pf\\anaconda\\envs\\comp\\lib\\site-packages (from keras-tuner) (2.29.0)\n",
      "Requirement already satisfied: wheel<1.0,>=0.23.0 in c:\\pf\\anaconda\\envs\\comp\\lib\\site-packages (from astunparse>=1.6.0->tensorflow) (0.38.4)\n",
      "Requirement already satisfied: google-auth<3,>=1.6.3 in c:\\pf\\anaconda\\envs\\comp\\lib\\site-packages (from tensorboard<2.11,>=2.10->tensorflow) (2.6.0)\n",
      "Requirement already satisfied: tensorboard-data-server<0.7.0,>=0.6.0 in c:\\pf\\anaconda\\envs\\comp\\lib\\site-packages (from tensorboard<2.11,>=2.10->tensorflow) (0.6.1)\n",
      "Requirement already satisfied: tensorboard-plugin-wit>=1.6.0 in c:\\pf\\anaconda\\envs\\comp\\lib\\site-packages (from tensorboard<2.11,>=2.10->tensorflow) (1.8.1)\n",
      "Requirement already satisfied: google-auth-oauthlib<0.5,>=0.4.1 in c:\\pf\\anaconda\\envs\\comp\\lib\\site-packages (from tensorboard<2.11,>=2.10->tensorflow) (0.4.4)\n",
      "Requirement already satisfied: werkzeug>=1.0.1 in c:\\pf\\anaconda\\envs\\comp\\lib\\site-packages (from tensorboard<2.11,>=2.10->tensorflow) (2.2.3)\n",
      "Requirement already satisfied: markdown>=2.6.8 in c:\\pf\\anaconda\\envs\\comp\\lib\\site-packages (from tensorboard<2.11,>=2.10->tensorflow) (3.4.1)\n",
      "Requirement already satisfied: urllib3<1.27,>=1.21.1 in c:\\pf\\anaconda\\envs\\comp\\lib\\site-packages (from requests->keras-tuner) (1.26.15)\n",
      "Requirement already satisfied: charset-normalizer<4,>=2 in c:\\pf\\anaconda\\envs\\comp\\lib\\site-packages (from requests->keras-tuner) (2.0.4)\n",
      "Requirement already satisfied: certifi>=2017.4.17 in c:\\pf\\anaconda\\envs\\comp\\lib\\site-packages (from requests->keras-tuner) (2023.5.7)\n",
      "Requirement already satisfied: idna<4,>=2.5 in c:\\pf\\anaconda\\envs\\comp\\lib\\site-packages (from requests->keras-tuner) (3.4)\n",
      "Requirement already satisfied: colorama in c:\\pf\\anaconda\\envs\\comp\\lib\\site-packages (from click->nltk) (0.4.6)\n",
      "Requirement already satisfied: pyasn1-modules>=0.2.1 in c:\\pf\\anaconda\\envs\\comp\\lib\\site-packages (from google-auth<3,>=1.6.3->tensorboard<2.11,>=2.10->tensorflow) (0.2.8)\n",
      "Requirement already satisfied: rsa<5,>=3.1.4 in c:\\pf\\anaconda\\envs\\comp\\lib\\site-packages (from google-auth<3,>=1.6.3->tensorboard<2.11,>=2.10->tensorflow) (4.7.2)\n",
      "Requirement already satisfied: cachetools<6.0,>=2.0.0 in c:\\pf\\anaconda\\envs\\comp\\lib\\site-packages (from google-auth<3,>=1.6.3->tensorboard<2.11,>=2.10->tensorflow) (4.2.2)\n",
      "Requirement already satisfied: requests-oauthlib>=0.7.0 in c:\\pf\\anaconda\\envs\\comp\\lib\\site-packages (from google-auth-oauthlib<0.5,>=0.4.1->tensorboard<2.11,>=2.10->tensorflow) (1.3.0)\n",
      "Requirement already satisfied: importlib-metadata>=4.4 in c:\\pf\\anaconda\\envs\\comp\\lib\\site-packages (from markdown>=2.6.8->tensorboard<2.11,>=2.10->tensorflow) (6.0.0)\n",
      "Requirement already satisfied: MarkupSafe>=2.1.1 in c:\\pf\\anaconda\\envs\\comp\\lib\\site-packages (from werkzeug>=1.0.1->tensorboard<2.11,>=2.10->tensorflow) (2.1.1)\n",
      "Requirement already satisfied: zipp>=0.5 in c:\\pf\\anaconda\\envs\\comp\\lib\\site-packages (from importlib-metadata>=4.4->markdown>=2.6.8->tensorboard<2.11,>=2.10->tensorflow) (3.11.0)\n",
      "Requirement already satisfied: pyasn1<0.5.0,>=0.4.6 in c:\\pf\\anaconda\\envs\\comp\\lib\\site-packages (from pyasn1-modules>=0.2.1->google-auth<3,>=1.6.3->tensorboard<2.11,>=2.10->tensorflow) (0.4.8)\n",
      "Requirement already satisfied: oauthlib>=3.0.0 in c:\\pf\\anaconda\\envs\\comp\\lib\\site-packages (from requests-oauthlib>=0.7.0->google-auth-oauthlib<0.5,>=0.4.1->tensorboard<2.11,>=2.10->tensorflow) (3.2.2)\n"
     ]
    },
    {
     "name": "stderr",
     "output_type": "stream",
     "text": [
      "[nltk_data] Downloading package punkt to C:\\Users\\Gao\n",
      "[nltk_data]     Hongkai\\AppData\\Roaming\\nltk_data...\n",
      "[nltk_data]   Package punkt is already up-to-date!\n",
      "[nltk_data] Downloading package stopwords to C:\\Users\\Gao\n",
      "[nltk_data]     Hongkai\\AppData\\Roaming\\nltk_data...\n",
      "[nltk_data]   Package stopwords is already up-to-date!\n",
      "[nltk_data] Downloading package wordnet to C:\\Users\\Gao\n",
      "[nltk_data]     Hongkai\\AppData\\Roaming\\nltk_data...\n",
      "[nltk_data]   Package wordnet is already up-to-date!\n"
     ]
    }
   ],
   "source": [
    "#import\n",
    "!pip install pandas numpy nltk scikit-learn tensorflow keras-tuner\n",
    "import pandas as pd\n",
    "import numpy as np\n",
    "np.random.seed(42)\n",
    "\n",
    "import re\n",
    "import nltk\n",
    "from nltk.corpus import stopwords\n",
    "nltk.download('punkt')\n",
    "nltk.download('stopwords')\n",
    "nltk.download('wordnet')\n",
    "from matplotlib import pyplot as plt\n",
    "\n",
    "import gensim.downloader as api\n",
    "from keras.utils import pad_sequences\n",
    "\n",
    "\n",
    "from sklearn.model_selection import train_test_split\n",
    "from sklearn.linear_model import LogisticRegression\n",
    "from sklearn.metrics import accuracy_score\n",
    "from sklearn.feature_extraction.text import CountVectorizer, TfidfTransformer\n",
    "from sklearn.naive_bayes import CategoricalNB\n",
    "import tensorflow as tf\n",
    "import keras\n",
    "import keras_tuner as kt\n",
    "from keras.layers import Activation, Dense, Dropout, Embedding, Flatten, Conv1D, MaxPooling1D, LSTM, Bidirectional\n",
    "\n",
    "import warnings\n",
    "warnings.filterwarnings(\"ignore\")"
   ]
  },
  {
   "cell_type": "markdown",
   "metadata": {
    "id": "bGqEIjPqsK_e"
   },
   "source": [
    "**2.Pre-process the dataset**\n",
    "\n",
    "> Read dataset.\n",
    "\n",
    "  In this task, we decide to use just two columns,'sentiment' and 'text', to make the dataset smaller and less computation.\n",
    "\n",
    "\n",
    "\n"
   ]
  },
  {
   "cell_type": "code",
   "execution_count": 6,
   "metadata": {
    "colab": {
     "base_uri": "https://localhost:8080/"
    },
    "id": "Kf9MokJCgijf",
    "outputId": "6a20e2ff-7672-483f-b5d6-75ea8271b69d"
   },
   "outputs": [
    {
     "name": "stdout",
     "output_type": "stream",
     "text": [
      "   sentiment                                               text\n",
      "0          0             @chrishasboobs AHHH I HOPE YOUR OK!!! \n",
      "1          0  @misstoriblack cool , i have no tweet apps  fo...\n",
      "2          0  @TiannaChaos i know  just family drama. its la...\n",
      "3          0  School email won't open  and I have geography ...\n",
      "4          0                             upper airways problem \n",
      "5          0         Going to miss Pastor's sermon on Faith... \n",
      "6          4            on lunch....dj should come eat with me \n",
      "7          0   @piginthepoke oh why are you feeling like that? \n",
      "8          0    gahh noo!peyton needs to live!this is horrible \n",
      "9          4  @mrstessyman thank you glad you like it! There...\n",
      "Sentiment column contanins: \n",
      "sentiment\n",
      "4    150515\n",
      "0    149485\n",
      "Name: count, dtype: int64\n",
      "The shape of total dataset is:(300000, 2)\n"
     ]
    }
   ],
   "source": [
    "# Load the dataset from csv\n",
    "mydf=pd.read_csv('/content/drive/MyDrive/training.300000.processed.noemoticon.csv',encoding='utf-8')\n",
    "#mydf=pd.read_csv('training.300000.processed.noemoticon.csv',encoding='utf-8')\n",
    "# Examine what is in the dataset\n",
    "print(mydf.iloc[:,[0,-1]].head(10))\n",
    "# Extract 2 columns [sentiment,text] into next stage\n",
    "dataset=mydf.iloc[:,[0,-1]]\n",
    "sentiment_count=dataset['sentiment'].value_counts()\n",
    "print(f'Sentiment column contanins: \\n{sentiment_count}')\n",
    "dataset['sentiment'] = dataset['sentiment'].replace(4, 1)\n",
    "print(f'The shape of total dataset is:{dataset.shape}')"
   ]
  },
  {
   "cell_type": "markdown",
   "metadata": {
    "id": "HjjupQWZzC3Y"
   },
   "source": [
    "> Data cleaning\n",
    "\n",
    "From previous section , we can see that the sentiment is a **numeric** one and consist of 0 and 4, thus only need to replace **4** with **1**.\n",
    "\n",
    "While for the text column, the filename says it do not have emoticons, so we decide to remove noise and irrelevant information from the tweets, such as punctuation, URLs, hashtags, mentions, etc.\n",
    "\n",
    "After that is **tokenization**, *stopwords removal, stemming and lemmatizing*.\n",
    "Noticed that only **tokenization** is a must."
   ]
  },
  {
   "cell_type": "code",
   "execution_count": 7,
   "metadata": {
    "colab": {
     "base_uri": "https://localhost:8080/"
    },
    "id": "qFURfzEgo_Wu",
    "outputId": "ec5f5a2d-08bd-49ed-98ea-4a1a5da1c0f4"
   },
   "outputs": [
    {
     "name": "stdout",
     "output_type": "stream",
     "text": [
      "   sentiment                                               text\n",
      "0          0                                       ahhh hope ok\n",
      "1          0                              cool tweet app razr 2\n",
      "2          0  know famili drama lame hey next time u hang ki...\n",
      "3          0  school email open geographi stuff revis stupid...\n",
      "4          0                               upper airway problem\n",
      "5          0                        go miss pastor sermon faith\n",
      "6          1                                  lunch dj come eat\n",
      "7          0                                       oh feel like\n",
      "8          0                  gahh noo peyton need live horribl\n",
      "9          1  thank glad like product review bit site enjoy ...\n"
     ]
    }
   ],
   "source": [
    "sw=stopwords.words('english')\n",
    "stemmer = nltk.stem.porter.PorterStemmer()\n",
    "lemmatizer = nltk.stem.WordNetLemmatizer()\n",
    "# Cleaning text\n",
    "def Cleaning(document,stem_lemma=False):\n",
    "  # 1.Lowercase\n",
    "  document=document.lower()\n",
    "  # 2.Remove unnecessary chars with RE\n",
    "  document = re.sub(r'@\\S+', ' ', document)#remove the @\n",
    "  document = re.sub(r'http\\S+', ' ', document)#remove the URL\n",
    "  document = re.sub(r'[^\\w\\s]', ' ', document)#remove punctuation\n",
    "  # 3.Tokenization based on words\n",
    "  tokens=nltk.word_tokenize(document)\n",
    "  # 4.Use NLKT to remove stopwords\n",
    "  tokens=[word for word in tokens if word not in sw]\n",
    "  if stem_lemma:\n",
    "    # 5.Use PorterStemmer to do stem \n",
    "    tokens=[stemmer.stem(word) for word in tokens]\n",
    "    # 6.Use wordnet to do lemmatizing  \n",
    "    tokens=[lemmatizer.lemmatize(word) for word in tokens]\n",
    "  return \" \".join(tokens)\n",
    "dataset.text = dataset.text.apply(lambda x: Cleaning(x,True))\n",
    "print(dataset.head(10))"
   ]
  },
  {
   "cell_type": "code",
   "execution_count": 8,
   "metadata": {
    "colab": {
     "base_uri": "https://localhost:8080/",
     "height": 430
    },
    "id": "E9yngAAYneCY",
    "outputId": "57532e2d-3378-4244-feff-b170423c7dcd"
   },
   "outputs": [
    {
     "data": {
      "image/png": "[encoded data removed]",
      "text/plain": [
       "<Figure size 640x480 with 1 Axes>"
      ]
     },
     "metadata": {},
     "output_type": "display_data"
    }
   ],
   "source": [
    "len_array=[len(line.split()) for line in dataset['text']]\n",
    "len_mean = np.mean(len_array)\n",
    "plt.hist(len_array,range(0,50))\n",
    "plt.annotate(\"mean\", xy=(len_mean, 40000), xytext=(len_mean-2, 40000),color='r')\n",
    "plt.vlines(len_mean, 0, 40000, color = 'r')\n",
    "plt.show()"
   ]
  },
  {
   "cell_type": "markdown",
   "metadata": {
    "id": "_WXKe_hk1Gz0"
   },
   "source": [
    "\n",
    "\n",
    "> Train,test split (0.8,0.2)\n",
    "\n"
   ]
  },
  {
   "cell_type": "code",
   "execution_count": 9,
   "metadata": {
    "colab": {
     "base_uri": "https://localhost:8080/"
    },
    "id": "1-bPfdkAobg5",
    "outputId": "4f0d11d5-34c9-40bd-e6ac-609e8d991197"
   },
   "outputs": [
    {
     "name": "stdout",
     "output_type": "stream",
     "text": [
      "TRAIN size: 240000\n",
      "TEST size: 60000\n"
     ]
    }
   ],
   "source": [
    "TRAIN_SIZE = 0.8\n",
    "X_train, X_test, y_train, y_test = train_test_split(dataset['text'],dataset['sentiment'], test_size=1-TRAIN_SIZE, random_state=42)\n",
    "print(\"TRAIN size:\", len(X_train))\n",
    "print(\"TEST size:\", len(X_test))"
   ]
  },
  {
   "cell_type": "markdown",
   "metadata": {
    "id": "6Aok5cR3UYq_"
   },
   "source": [
    "Preprocess the data for the **logistic regression**\n",
    "\n",
    "---\n",
    "\n"
   ]
  },
  {
   "cell_type": "code",
   "execution_count": 10,
   "metadata": {
    "id": "5nO-RQhCDwqU"
   },
   "outputs": [],
   "source": [
    "#change text to numeric \n",
    "to_vec = CountVectorizer()\n",
    "X_train_vec = to_vec.fit_transform(X_train)\n",
    "X_test_vec = to_vec.transform(X_test)"
   ]
  },
  {
   "cell_type": "markdown",
   "metadata": {
    "id": "VwMlyzB90apP"
   },
   "source": [
    "\n",
    "\n",
    "> Word embedding(with padding)\n",
    "\n",
    "Turn all the tweets into documents \n"
   ]
  },
  {
   "cell_type": "code",
   "execution_count": 11,
   "metadata": {
    "colab": {
     "base_uri": "https://localhost:8080/"
    },
    "id": "eoVbf558KRLd",
    "outputId": "c7cd13e0-4a84-4216-8059-fde6c5f731de"
   },
   "outputs": [
    {
     "name": "stdout",
     "output_type": "stream",
     "text": [
      "Check whether the split works:['readi', 'anoth', 'week', 'glad', 'go', 'work', 'wonder', 'car', 'start']\n"
     ]
    }
   ],
   "source": [
    "documents = [text.split() for text in X_train]\n",
    "print(f'Check whether the split works:{documents[0]}')"
   ]
  },
  {
   "cell_type": "code",
   "execution_count": 12,
   "metadata": {
    "id": "D0ACWCk5LoKn"
   },
   "outputs": [],
   "source": [
    "import gensim\n",
    "W2V_SIZE = 25\n",
    "W2V_WINDOW = 7\n",
    "W2V_EPOCH = 16\n",
    "W2V_MIN_COUNT = 5\n",
    "\n",
    "\n",
    "\n",
    "w2v_model = gensim.models.word2vec.Word2Vec(vector_size=W2V_SIZE,window=W2V_WINDOW,min_count=W2V_MIN_COUNT,workers=8)"
   ]
  },
  {
   "cell_type": "code",
   "execution_count": 13,
   "metadata": {
    "colab": {
     "base_uri": "https://localhost:8080/"
    },
    "id": "aU0QnSycWLfX",
    "outputId": "725cddc1-2262-4791-8f22-1e9ff1f8426d"
   },
   "outputs": [
    {
     "name": "stdout",
     "output_type": "stream",
     "text": [
      "Total vocabulary size is:14183\n"
     ]
    }
   ],
   "source": [
    "w2v_model.build_vocab(documents)\n",
    "words = list(w2v_model.wv.index_to_key)\n",
    "vocab_size = len(words)\n",
    "print(f'Total vocabulary size is:{vocab_size}')"
   ]
  },
  {
   "cell_type": "code",
   "execution_count": 14,
   "metadata": {
    "colab": {
     "base_uri": "https://localhost:8080/"
    },
    "id": "VOxn-umr6IAN",
    "outputId": "576e87c2-d7e2-4dd8-a86b-300be9354a7e"
   },
   "outputs": [
    {
     "data": {
      "text/plain": [
       "(24034024, 27701984)"
      ]
     },
     "execution_count": 14,
     "metadata": {},
     "output_type": "execute_result"
    }
   ],
   "source": [
    "w2v_model.train(documents, total_examples=len(documents), epochs=W2V_EPOCH)"
   ]
  },
  {
   "cell_type": "markdown",
   "metadata": {
    "id": "Y7v9xads6guP"
   },
   "source": [
    "Validation:See how our model works. Here we choose word 'nintendo' as an example."
   ]
  },
  {
   "cell_type": "code",
   "execution_count": 15,
   "metadata": {
    "colab": {
     "base_uri": "https://localhost:8080/"
    },
    "id": "JIOra5en6VF3",
    "outputId": "10e3dd94-e6ab-40d7-cbf9-c292093c4bdd"
   },
   "outputs": [
    {
     "data": {
      "text/plain": [
       "[('psp', 0.8485073447227478),\n",
       " ('microsoft', 0.8312132954597473),\n",
       " ('exclus', 0.829622209072113),\n",
       " ('soni', 0.8267709612846375),\n",
       " ('keynot', 0.8261277079582214),\n",
       " ('l4d', 0.8232858180999756),\n",
       " ('pirat', 0.8114590644836426),\n",
       " ('demo', 0.7963566780090332),\n",
       " ('zelda', 0.7883288860321045),\n",
       " ('sl', 0.7854371666908264)]"
      ]
     },
     "execution_count": 15,
     "metadata": {},
     "output_type": "execute_result"
    }
   ],
   "source": [
    "w2v_model.wv.most_similar(\"nintendo\")"
   ]
  },
  {
   "cell_type": "markdown",
   "metadata": {
    "id": "H79wAMfz7KoR"
   },
   "source": [
    "Tokenizing using keras.Tokenizer"
   ]
  },
  {
   "cell_type": "code",
   "execution_count": 16,
   "metadata": {
    "colab": {
     "base_uri": "https://localhost:8080/"
    },
    "id": "V4hsL_3O6fsb",
    "outputId": "90a3c2f5-72ed-467c-b3a0-24615645296b"
   },
   "outputs": [
    {
     "name": "stdout",
     "output_type": "stream",
     "text": [
      "Total words in training_text:73295\n"
     ]
    }
   ],
   "source": [
    "from keras.preprocessing.text import Tokenizer\n",
    "\n",
    "tokenizer = Tokenizer()\n",
    "tokenizer.fit_on_texts(X_train) \n",
    "# Updates internal vocabulary based on a list of texts. This method creates the vocabulary index based on word frequency\n",
    "\n",
    "vocab_size = len(tokenizer.word_index) + 1\n",
    "print(f'Total words in training_text:{vocab_size}')"
   ]
  },
  {
   "cell_type": "markdown",
   "metadata": {
    "id": "p3i1m2OxiQbi"
   },
   "source": [
    "Do the padding here. Currently we pad '0' into those tweets with inadequate length.\n",
    "\n",
    "SEQUENCE_LENGTH here is a parameter to change.\n",
    "\n",
    "Turn word into vector."
   ]
  },
  {
   "cell_type": "code",
   "execution_count": 17,
   "metadata": {
    "id": "vZNkdPWq7bei"
   },
   "outputs": [],
   "source": [
    "from keras.utils import pad_sequences\n",
    "\n",
    "# text_to_sequences transforms each text in texts to a sequence of integers. \n",
    "#So it basically takes each word in the text and replaces it with its corresponding integer value from the word_index dictionary\n",
    "\n",
    "SEQUENCE_LENGTH = 15\n",
    "\n",
    "X_train = pad_sequences(tokenizer.texts_to_sequences(X_train), maxlen=SEQUENCE_LENGTH)  \n",
    "X_test = pad_sequences(tokenizer.texts_to_sequences(X_test), maxlen=SEQUENCE_LENGTH)\n",
    "\n",
    "#pad_sequences is used to ensure that all sequences in a list have the same length"
   ]
  },
  {
   "cell_type": "markdown",
   "metadata": {
    "id": "U35WdJsh1PT0"
   },
   "source": [
    "**3. Model creation**\n",
    "\n",
    "\n",
    "> Logstics regression\n",
    "\n"
   ]
  },
  {
   "cell_type": "code",
   "execution_count": 18,
   "metadata": {
    "colab": {
     "base_uri": "https://localhost:8080/",
     "height": 74
    },
    "id": "Gcs3bSUZgi7A",
    "outputId": "0dc61aee-3876-4c42-ac5b-242016c5af78"
   },
   "outputs": [
    {
     "data": {
      "text/html": [
       "<style>#sk-container-id-1 {color: black;background-color: white;}#sk-container-id-1 pre{padding: 0;}#sk-container-id-1 div.sk-toggleable {background-color: white;}#sk-container-id-1 label.sk-toggleable__label {cursor: pointer;display: block;width: 100%;margin-bottom: 0;padding: 0.3em;box-sizing: border-box;text-align: center;}#sk-container-id-1 label.sk-toggleable__label-arrow:before {content: \"▸\";float: left;margin-right: 0.25em;color: #696969;}#sk-container-id-1 label.sk-toggleable__label-arrow:hover:before {color: black;}#sk-container-id-1 div.sk-estimator:hover label.sk-toggleable__label-arrow:before {color: black;}#sk-container-id-1 div.sk-toggleable__content {max-height: 0;max-width: 0;overflow: hidden;text-align: left;background-color: #f0f8ff;}#sk-container-id-1 div.sk-toggleable__content pre {margin: 0.2em;color: black;border-radius: 0.25em;background-color: #f0f8ff;}#sk-container-id-1 input.sk-toggleable__control:checked~div.sk-toggleable__content {max-height: 200px;max-width: 100%;overflow: auto;}#sk-container-id-1 input.sk-toggleable__control:checked~label.sk-toggleable__label-arrow:before {content: \"▾\";}#sk-container-id-1 div.sk-estimator input.sk-toggleable__control:checked~label.sk-toggleable__label {background-color: #d4ebff;}#sk-container-id-1 div.sk-label input.sk-toggleable__control:checked~label.sk-toggleable__label {background-color: #d4ebff;}#sk-container-id-1 input.sk-hidden--visually {border: 0;clip: rect(1px 1px 1px 1px);clip: rect(1px, 1px, 1px, 1px);height: 1px;margin: -1px;overflow: hidden;padding: 0;position: absolute;width: 1px;}#sk-container-id-1 div.sk-estimator {font-family: monospace;background-color: #f0f8ff;border: 1px dotted black;border-radius: 0.25em;box-sizing: border-box;margin-bottom: 0.5em;}#sk-container-id-1 div.sk-estimator:hover {background-color: #d4ebff;}#sk-container-id-1 div.sk-parallel-item::after {content: \"\";width: 100%;border-bottom: 1px solid gray;flex-grow: 1;}#sk-container-id-1 div.sk-label:hover label.sk-toggleable__label {background-color: #d4ebff;}#sk-container-id-1 div.sk-serial::before {content: \"\";position: absolute;border-left: 1px solid gray;box-sizing: border-box;top: 0;bottom: 0;left: 50%;z-index: 0;}#sk-container-id-1 div.sk-serial {display: flex;flex-direction: column;align-items: center;background-color: white;padding-right: 0.2em;padding-left: 0.2em;position: relative;}#sk-container-id-1 div.sk-item {position: relative;z-index: 1;}#sk-container-id-1 div.sk-parallel {display: flex;align-items: stretch;justify-content: center;background-color: white;position: relative;}#sk-container-id-1 div.sk-item::before, #sk-container-id-1 div.sk-parallel-item::before {content: \"\";position: absolute;border-left: 1px solid gray;box-sizing: border-box;top: 0;bottom: 0;left: 50%;z-index: -1;}#sk-container-id-1 div.sk-parallel-item {display: flex;flex-direction: column;z-index: 1;position: relative;background-color: white;}#sk-container-id-1 div.sk-parallel-item:first-child::after {align-self: flex-end;width: 50%;}#sk-container-id-1 div.sk-parallel-item:last-child::after {align-self: flex-start;width: 50%;}#sk-container-id-1 div.sk-parallel-item:only-child::after {width: 0;}#sk-container-id-1 div.sk-dashed-wrapped {border: 1px dashed gray;margin: 0 0.4em 0.5em 0.4em;box-sizing: border-box;padding-bottom: 0.4em;background-color: white;}#sk-container-id-1 div.sk-label label {font-family: monospace;font-weight: bold;display: inline-block;line-height: 1.2em;}#sk-container-id-1 div.sk-label-container {text-align: center;}#sk-container-id-1 div.sk-container {/* jupyter's `normalize.less` sets `[hidden] { display: none; }` but bootstrap.min.css set `[hidden] { display: none !important; }` so we also need the `!important` here to be able to override the default hidden behavior on the sphinx rendered scikit-learn.org. See: https://github.com/scikit-learn/scikit-learn/issues/21755 */display: inline-block !important;position: relative;}#sk-container-id-1 div.sk-text-repr-fallback {display: none;}</style><div id=\"sk-container-id-1\" class=\"sk-top-container\"><div class=\"sk-text-repr-fallback\"><pre>LogisticRegression(max_iter=7000)</pre><b>In a Jupyter environment, please rerun this cell to show the HTML representation or trust the notebook. <br />On GitHub, the HTML representation is unable to render, please try loading this page with nbviewer.org.</b></div><div class=\"sk-container\" hidden><div class=\"sk-item\"><div class=\"sk-estimator sk-toggleable\"><input class=\"sk-toggleable__control sk-hidden--visually\" id=\"sk-estimator-id-1\" type=\"checkbox\" checked><label for=\"sk-estimator-id-1\" class=\"sk-toggleable__label sk-toggleable__label-arrow\">LogisticRegression</label><div class=\"sk-toggleable__content\"><pre>LogisticRegression(max_iter=7000)</pre></div></div></div></div></div>"
      ],
      "text/plain": [
       "LogisticRegression(max_iter=7000)"
      ]
     },
     "execution_count": 18,
     "metadata": {},
     "output_type": "execute_result"
    }
   ],
   "source": [
    "#logic regression\n",
    "\n",
    "mylogre = LogisticRegression(max_iter=7000)\n",
    "mylogre.fit(X_train_vec, y_train)"
   ]
  },
  {
   "cell_type": "code",
   "execution_count": 20,
   "metadata": {
    "colab": {
     "base_uri": "https://localhost:8080/"
    },
    "id": "JpJ1OtklGg_i",
    "outputId": "2970c47a-8ea9-4651-9e74-df0be84fe98f"
   },
   "outputs": [
    {
     "name": "stdout",
     "output_type": "stream",
     "text": [
      "Accuracy: 76.5283%\n"
     ]
    }
   ],
   "source": [
    "#use model to get the prediction and evaluate it\n",
    "y_pred_lr = mylogre.predict(X_test_vec)\n",
    "accuracy_lr = accuracy_score(y_test, y_pred_lr)\n",
    "print(f\"Accuracy: {accuracy_lr*100:.4f}%\")"
   ]
  },
  {
   "cell_type": "markdown",
   "metadata": {
    "id": "ROJa3D9M1iF2"
   },
   "source": [
    "\n",
    "\n",
    "> LSTM\n",
    "\n"
   ]
  },
  {
   "cell_type": "code",
   "execution_count": 21,
   "metadata": {
    "colab": {
     "base_uri": "https://localhost:8080/"
    },
    "id": "3Oct4UJY_yr-",
    "outputId": "ca4fe19e-449b-4d6c-874f-4d6857d58113"
   },
   "outputs": [
    {
     "name": "stdout",
     "output_type": "stream",
     "text": [
      "(73295, 25)\n"
     ]
    }
   ],
   "source": [
    "OOV_VALUE=np.random.uniform(low=-1.0, high=1.0, size=(W2V_SIZE,))\n",
    "embedding_matrix = np.zeros((vocab_size, W2V_SIZE))\n",
    "for word, i in tokenizer.word_index.items():\n",
    "  if word in w2v_model.wv:\n",
    "    embedding_matrix[i] = w2v_model.wv[word]\n",
    "  else:\n",
    "    embedding_matrix[i]= OOV_VALUE\n",
    "print(embedding_matrix.shape)\n",
    "\n",
    "embedding_layer = Embedding(vocab_size, W2V_SIZE, weights=[embedding_matrix], input_length=SEQUENCE_LENGTH, trainable=False)\n",
    "#we build the embedding layer to map from words to vectors which you can do better analysis"
   ]
  },
  {
   "cell_type": "code",
   "execution_count": 23,
   "metadata": {
    "colab": {
     "base_uri": "https://localhost:8080/"
    },
    "id": "RGdyt-iylu2g",
    "outputId": "1a6bf215-0c2a-428e-9aab-6eb2d262bcd8"
   },
   "outputs": [
    {
     "name": "stdout",
     "output_type": "stream",
     "text": [
      "Model: \"sequential\"\n",
      "_________________________________________________________________\n",
      " Layer (type)                Output Shape              Param #   \n",
      "=================================================================\n",
      " embedding (Embedding)       (None, 15, 25)            1832375   \n",
      "                                                                 \n",
      " dropout (Dropout)           (None, 15, 25)            0         \n",
      "                                                                 \n",
      " lstm (LSTM)                 (None, 100)               50400     \n",
      "                                                                 \n",
      " dense (Dense)               (None, 1)                 101       \n",
      "                                                                 \n",
      "=================================================================\n",
      "Total params: 1,882,876\n",
      "Trainable params: 50,501\n",
      "Non-trainable params: 1,832,375\n",
      "_________________________________________________________________\n"
     ]
    }
   ],
   "source": [
    "tf.keras.backend.clear_session()\n",
    "from keras.models import Sequential\n",
    "\n",
    "model = Sequential()\n",
    "model.add(embedding_layer)\n",
    "model.add(Dropout(0.4))\n",
    "model.add(LSTM(100, dropout=0.2, recurrent_dropout=0.2))\n",
    "model.add(Dense(1, activation='sigmoid'))\n",
    "\n",
    "model.summary()\n",
    "model.compile(loss='binary_crossentropy',\n",
    "              optimizer=\"adam\",\n",
    "              metrics=['accuracy'])\n",
    "from keras.callbacks import ReduceLROnPlateau, EarlyStopping\n",
    "\n",
    "callbacks = [ ReduceLROnPlateau(monitor='val_loss', patience=5, cooldown=0),   #Reduce learning rate when a metric has stopped improving. \n",
    "              EarlyStopping(monitor='val_accuracy', min_delta=1e-4, patience=5)]    #Stop training when a monitored metric has stopped improving."
   ]
  },
  {
   "cell_type": "code",
   "execution_count": 24,
   "metadata": {
    "colab": {
     "base_uri": "https://localhost:8080/"
    },
    "id": "fTRdpwQsqMN3",
    "outputId": "7215496b-f969-4a20-c194-982b1d9e37ab"
   },
   "outputs": [
    {
     "name": "stdout",
     "output_type": "stream",
     "text": [
      "Epoch 1/4\n",
      "3375/3375 [==============================] - 137s 40ms/step - loss: 0.5694 - accuracy: 0.6993 - val_loss: 0.5127 - val_accuracy: 0.7427 - lr: 0.0010\n",
      "Epoch 2/4\n",
      "3375/3375 [==============================] - 161s 48ms/step - loss: 0.5515 - accuracy: 0.7140 - val_loss: 0.5080 - val_accuracy: 0.7480 - lr: 0.0010\n",
      "Epoch 3/4\n",
      "3375/3375 [==============================] - 167s 50ms/step - loss: 0.5460 - accuracy: 0.7182 - val_loss: 0.5087 - val_accuracy: 0.7492 - lr: 0.0010\n",
      "Epoch 4/4\n",
      "3375/3375 [==============================] - 172s 51ms/step - loss: 0.5413 - accuracy: 0.7215 - val_loss: 0.5034 - val_accuracy: 0.7509 - lr: 0.0010\n"
     ]
    }
   ],
   "source": [
    "BATCH_SIZE = 64\n",
    "EPOCHS = 4            #there should be more but for the sake of time let's just do 1 epoch\n",
    "\n",
    "history = model.fit(X_train, y_train,\n",
    "                    batch_size=BATCH_SIZE,\n",
    "                    epochs=EPOCHS,\n",
    "                    validation_split=0.1,\n",
    "                    verbose=1,\n",
    "                    callbacks=callbacks)"
   ]
  },
  {
   "cell_type": "code",
   "execution_count": null,
   "metadata": {
    "colab": {
     "base_uri": "https://localhost:8080/"
    },
    "id": "qHOx4O94Uzob",
    "outputId": "d198c437-4341-4e80-cabd-9c01b22c94d0"
   },
   "outputs": [
    {
     "name": "stdout",
     "output_type": "stream",
     "text": [
      "Model: \"sequential\"\n",
      "_________________________________________________________________\n",
      " Layer (type)                Output Shape              Param #   \n",
      "=================================================================\n",
      " embedding (Embedding)       (None, 20, 25)            1832375   \n",
      "                                                                 \n",
      " dropout (Dropout)           (None, 20, 25)            0         \n",
      "                                                                 \n",
      " bidirectional (Bidirectiona  (None, 20, 128)          46080     \n",
      " l)                                                              \n",
      "                                                                 \n",
      " bidirectional_1 (Bidirectio  (None, 128)              98816     \n",
      " nal)                                                            \n",
      "                                                                 \n",
      " dense (Dense)               (None, 1)                 129       \n",
      "                                                                 \n",
      "=================================================================\n",
      "Total params: 1,977,400\n",
      "Trainable params: 145,025\n",
      "Non-trainable params: 1,832,375\n",
      "_________________________________________________________________\n"
     ]
    }
   ],
   "source": [
    "tf.keras.backend.clear_session()\n",
    "from keras.models import Sequential\n",
    "model_bi = Sequential()\n",
    "model_bi.add(embedding_layer)\n",
    "model_bi.add(Dropout(0.4))\n",
    "model_bi.add(Bidirectional(LSTM(32, dropout=0.2, recurrent_dropout=0.2,return_sequences=True)))\n",
    "model_bi.add(Bidirectional(LSTM(32)))\n",
    "model_bi.add(Dense(1, activation='sigmoid'))\n",
    "\n",
    "model_bi.summary()\n",
    "model_bi.compile(loss='binary_crossentropy',\n",
    "              optimizer=\"adam\",\n",
    "              metrics=['accuracy'])\n",
    "from keras.callbacks import ReduceLROnPlateau, EarlyStopping\n",
    "\n",
    "callbacks = [ ReduceLROnPlateau(monitor='val_loss', patience=5, cooldown=0),   #Reduce learning rate when a metric has stopped improving. \n",
    "              EarlyStopping(monitor='val_accuracy', min_delta=1e-4, patience=5)]    #Stop training when a monitored metric has stopped improving."
   ]
  },
  {
   "cell_type": "code",
   "execution_count": null,
   "metadata": {
    "colab": {
     "base_uri": "https://localhost:8080/"
    },
    "id": "ONGkrkEdfD2D",
    "outputId": "2a1b4b99-5a5f-4cfe-b386-e105f6293a7a",
    "scrolled": false
   },
   "outputs": [
    {
     "name": "stdout",
     "output_type": "stream",
     "text": [
      "Epoch 1/8\n",
      "844/844 [==============================] - 183s 207ms/step - loss: 0.5785 - accuracy: 0.6926 - val_loss: 0.5133 - val_accuracy: 0.7425 - lr: 0.0010\n",
      "Epoch 2/8\n",
      "844/844 [==============================] - 177s 209ms/step - loss: 0.5631 - accuracy: 0.7029 - val_loss: 0.5099 - val_accuracy: 0.7442 - lr: 0.0010\n",
      "Epoch 3/8\n",
      "844/844 [==============================] - 175s 208ms/step - loss: 0.5555 - accuracy: 0.7098 - val_loss: 0.5042 - val_accuracy: 0.7497 - lr: 0.0010\n",
      "Epoch 4/8\n",
      "844/844 [==============================] - 181s 214ms/step - loss: 0.5501 - accuracy: 0.7137 - val_loss: 0.5019 - val_accuracy: 0.7511 - lr: 0.0010\n",
      "Epoch 5/8\n",
      "844/844 [==============================] - 176s 209ms/step - loss: 0.5480 - accuracy: 0.7149 - val_loss: 0.5024 - val_accuracy: 0.7515 - lr: 0.0010\n",
      "Epoch 6/8\n",
      "844/844 [==============================] - 176s 208ms/step - loss: 0.5442 - accuracy: 0.7162 - val_loss: 0.4980 - val_accuracy: 0.7552 - lr: 0.0010\n",
      "Epoch 7/8\n",
      "844/844 [==============================] - 176s 208ms/step - loss: 0.5437 - accuracy: 0.7195 - val_loss: 0.4995 - val_accuracy: 0.7525 - lr: 0.0010\n",
      "Epoch 8/8\n",
      "844/844 [==============================] - 177s 209ms/step - loss: 0.5401 - accuracy: 0.7214 - val_loss: 0.4977 - val_accuracy: 0.7555 - lr: 0.0010\n"
     ]
    }
   ],
   "source": [
    "BATCH_SIZE = 128\n",
    "EPOCHS = 4            \n",
    "\n",
    "history = model_bi.fit(X_train, y_train,\n",
    "                    batch_size=BATCH_SIZE,\n",
    "                    epochs=EPOCHS,\n",
    "                    validation_split=0.1,\n",
    "                    verbose=1,\n",
    "                    callbacks=callbacks)"
   ]
  },
  {
   "cell_type": "markdown",
   "metadata": {
    "id": "9xXCd4CUfD2K"
   },
   "source": [
    "Bi-LSTM"
   ]
  },
  {
   "cell_type": "markdown",
   "metadata": {
    "id": "XiMZZgrhuTuP"
   },
   "source": [
    "**4.Fine-tune for best hyperparameter**"
   ]
  },
  {
   "cell_type": "markdown",
   "metadata": {
    "id": "x_nJDw70unP9"
   },
   "source": [
    "GridSearch is a good hyper-param tunning method, so we use it to find best parameter for logistic regression."
   ]
  },
  {
   "cell_type": "code",
   "execution_count": 11,
   "metadata": {
    "colab": {
     "base_uri": "https://localhost:8080/"
    },
    "id": "Lp2px28BOeqa",
    "outputId": "92d9ae21-21c6-427f-c0d4-9db926fc6325"
   },
   "outputs": [
    {
     "data": {
      "text/plain": [
       "{'C': 0.2611111111111111, 'solver': 'lbfgs'}"
      ]
     },
     "execution_count": 11,
     "metadata": {},
     "output_type": "execute_result"
    }
   ],
   "source": [
    "from sklearn.model_selection import GridSearchCV\n",
    "param_lr = {\n",
    "    'C':list(np.linspace(0.05,1,10,20)),\n",
    "    'solver':['liblinear','sag','newton-cg','lbfgs']}\n",
    "\n",
    "GS = GridSearchCV(mylogre,param_lr,cv=10)\n",
    "GS.fit(X_train_vec,y_train)\n",
    "#输出最优参数\n",
    "GS.best_params_\n"
   ]
  },
  {
   "cell_type": "markdown",
   "metadata": {
    "id": "JF1oMy8wNtP2"
   },
   "source": [
    "So, it shows that the best parameter in our choice for C and solver is 0.261111 and lbfgs. \n",
    "\n",
    "We can update the logistic regression:"
   ]
  },
  {
   "cell_type": "code",
   "execution_count": 12,
   "metadata": {
    "colab": {
     "base_uri": "https://localhost:8080/",
     "height": 74
    },
    "id": "ZykvS8ExN7lq",
    "outputId": "e4fd8a7c-6c0b-4164-9871-b27341108dff"
   },
   "outputs": [
    {
     "data": {
      "text/html": [
       "<style>#sk-container-id-2 {color: black;background-color: white;}#sk-container-id-2 pre{padding: 0;}#sk-container-id-2 div.sk-toggleable {background-color: white;}#sk-container-id-2 label.sk-toggleable__label {cursor: pointer;display: block;width: 100%;margin-bottom: 0;padding: 0.3em;box-sizing: border-box;text-align: center;}#sk-container-id-2 label.sk-toggleable__label-arrow:before {content: \"▸\";float: left;margin-right: 0.25em;color: #696969;}#sk-container-id-2 label.sk-toggleable__label-arrow:hover:before {color: black;}#sk-container-id-2 div.sk-estimator:hover label.sk-toggleable__label-arrow:before {color: black;}#sk-container-id-2 div.sk-toggleable__content {max-height: 0;max-width: 0;overflow: hidden;text-align: left;background-color: #f0f8ff;}#sk-container-id-2 div.sk-toggleable__content pre {margin: 0.2em;color: black;border-radius: 0.25em;background-color: #f0f8ff;}#sk-container-id-2 input.sk-toggleable__control:checked~div.sk-toggleable__content {max-height: 200px;max-width: 100%;overflow: auto;}#sk-container-id-2 input.sk-toggleable__control:checked~label.sk-toggleable__label-arrow:before {content: \"▾\";}#sk-container-id-2 div.sk-estimator input.sk-toggleable__control:checked~label.sk-toggleable__label {background-color: #d4ebff;}#sk-container-id-2 div.sk-label input.sk-toggleable__control:checked~label.sk-toggleable__label {background-color: #d4ebff;}#sk-container-id-2 input.sk-hidden--visually {border: 0;clip: rect(1px 1px 1px 1px);clip: rect(1px, 1px, 1px, 1px);height: 1px;margin: -1px;overflow: hidden;padding: 0;position: absolute;width: 1px;}#sk-container-id-2 div.sk-estimator {font-family: monospace;background-color: #f0f8ff;border: 1px dotted black;border-radius: 0.25em;box-sizing: border-box;margin-bottom: 0.5em;}#sk-container-id-2 div.sk-estimator:hover {background-color: #d4ebff;}#sk-container-id-2 div.sk-parallel-item::after {content: \"\";width: 100%;border-bottom: 1px solid gray;flex-grow: 1;}#sk-container-id-2 div.sk-label:hover label.sk-toggleable__label {background-color: #d4ebff;}#sk-container-id-2 div.sk-serial::before {content: \"\";position: absolute;border-left: 1px solid gray;box-sizing: border-box;top: 0;bottom: 0;left: 50%;z-index: 0;}#sk-container-id-2 div.sk-serial {display: flex;flex-direction: column;align-items: center;background-color: white;padding-right: 0.2em;padding-left: 0.2em;position: relative;}#sk-container-id-2 div.sk-item {position: relative;z-index: 1;}#sk-container-id-2 div.sk-parallel {display: flex;align-items: stretch;justify-content: center;background-color: white;position: relative;}#sk-container-id-2 div.sk-item::before, #sk-container-id-2 div.sk-parallel-item::before {content: \"\";position: absolute;border-left: 1px solid gray;box-sizing: border-box;top: 0;bottom: 0;left: 50%;z-index: -1;}#sk-container-id-2 div.sk-parallel-item {display: flex;flex-direction: column;z-index: 1;position: relative;background-color: white;}#sk-container-id-2 div.sk-parallel-item:first-child::after {align-self: flex-end;width: 50%;}#sk-container-id-2 div.sk-parallel-item:last-child::after {align-self: flex-start;width: 50%;}#sk-container-id-2 div.sk-parallel-item:only-child::after {width: 0;}#sk-container-id-2 div.sk-dashed-wrapped {border: 1px dashed gray;margin: 0 0.4em 0.5em 0.4em;box-sizing: border-box;padding-bottom: 0.4em;background-color: white;}#sk-container-id-2 div.sk-label label {font-family: monospace;font-weight: bold;display: inline-block;line-height: 1.2em;}#sk-container-id-2 div.sk-label-container {text-align: center;}#sk-container-id-2 div.sk-container {/* jupyter's `normalize.less` sets `[hidden] { display: none; }` but bootstrap.min.css set `[hidden] { display: none !important; }` so we also need the `!important` here to be able to override the default hidden behavior on the sphinx rendered scikit-learn.org. See: https://github.com/scikit-learn/scikit-learn/issues/21755 */display: inline-block !important;position: relative;}#sk-container-id-2 div.sk-text-repr-fallback {display: none;}</style><div id=\"sk-container-id-2\" class=\"sk-top-container\"><div class=\"sk-text-repr-fallback\"><pre>LogisticRegression(C=0.26111111, max_iter=7000)</pre><b>In a Jupyter environment, please rerun this cell to show the HTML representation or trust the notebook. <br />On GitHub, the HTML representation is unable to render, please try loading this page with nbviewer.org.</b></div><div class=\"sk-container\" hidden><div class=\"sk-item\"><div class=\"sk-estimator sk-toggleable\"><input class=\"sk-toggleable__control sk-hidden--visually\" id=\"sk-estimator-id-2\" type=\"checkbox\" checked><label for=\"sk-estimator-id-2\" class=\"sk-toggleable__label sk-toggleable__label-arrow\">LogisticRegression</label><div class=\"sk-toggleable__content\"><pre>LogisticRegression(C=0.26111111, max_iter=7000)</pre></div></div></div></div></div>"
      ],
      "text/plain": [
       "LogisticRegression(C=0.26111111, max_iter=7000)"
      ]
     },
     "execution_count": 12,
     "metadata": {},
     "output_type": "execute_result"
    }
   ],
   "source": [
    "mylogre = LogisticRegression(max_iter=7000, C = 0.26111111, solver = 'lbfgs')\n",
    "mylogre.fit(X_train_vec, y_train)"
   ]
  },
  {
   "cell_type": "markdown",
   "metadata": {},
   "source": [
    "We use keras_tuner to do the automatic hyperparameter tuning."
   ]
  },
  {
   "cell_type": "code",
   "execution_count": null,
   "metadata": {},
   "outputs": [
    {
     "name": "stdout",
     "output_type": "stream",
     "text": [
      "\n",
      "Search: Running Trial #1\n",
      "\n",
      "Value             |Best Value So Far |Hyperparameter\n",
      "480               |480               |units\n",
      "2                 |2                 |tuner/epochs\n",
      "0                 |0                 |tuner/initial_epoch\n",
      "2                 |2                 |tuner/bracket\n",
      "0                 |0                 |tuner/round\n",
      "\n",
      "Epoch 1/2\n",
      " 372/3375 [==>...........................] - ETA: 11:05 - loss: 0.5999 - accuracy: 0.6717"
     ]
    }
   ],
   "source": [
    "def lstm_model_builder(hp):\n",
    "  model = keras.Sequential()\n",
    "  model.add(embedding_layer)\n",
    "\n",
    "  # Tune the number of units in the first Dense layer\n",
    "  # Choose an optimal value between 32-512\n",
    "  model.add(Dropout(0.4))\n",
    "  hp_units = hp.Int('units', min_value=32, max_value=512, step=32)\n",
    "  model.add(LSTM(units=hp_units, dropout=0.2, recurrent_dropout=0.2))\n",
    "  model.add(Dense(1, activation='sigmoid'))\n",
    "\n",
    "  model.compile(optimizer='adam',\n",
    "                loss='binary_crossentropy',\n",
    "                metrics=['accuracy'])\n",
    "\n",
    "  return model\n",
    "\n",
    "\n",
    "tuner = kt.Hyperband(lstm_model_builder,\n",
    "                     objective='val_accuracy',\n",
    "                     max_epochs=10,\n",
    "                     factor=3,\n",
    "                     directory='my_dir',\n",
    "                     project_name='lstm_to_kt')\n",
    "callbacks = [ ReduceLROnPlateau(monitor='val_loss', patience=5, cooldown=0),   #Reduce learning rate when a metric has stopped improving. \n",
    "              EarlyStopping(monitor='val_accuracy', min_delta=1e-4, patience=5)]    #Stop training when a monitored metric has stopped improving.\n",
    "\n",
    "tuner.search(X_train, y_train, epochs=20, validation_split=0.1,batch_size=64, callbacks=callbacks)\n",
    "\n",
    "# Get the optimal hyperparameters\n",
    "best_lstmhps=tuner.get_best_hyperparameters(num_trials=1)[0]\n",
    "\n",
    "print(f\"\"\"\n",
    "The hyperparameter search is complete. The optimal number of units in the LSTM is {best_lstmhps.get('units')}.\n",
    "\"\"\")"
   ]
  },
  {
   "cell_type": "code",
   "execution_count": null,
   "metadata": {},
   "outputs": [],
   "source": [
    "def bi_model_builder(hp):\n",
    "  model = keras.Sequential()\n",
    "  model.add(embedding_layer)\n",
    "\n",
    "  # Tune the number of units in the first Dense layer\n",
    "  # Choose an optimal value between 32-512\n",
    "  model_.add(Dropout(0.4))\n",
    "  hp_units = hp.Int('units', min_value=32, max_value=512, step=32)\n",
    "  model.add(Bidirectional(LSTM(units=hp_units, dropout=0.2, recurrent_dropout=0.2,return_sequences=True)))\n",
    "  model.add(Bidirectional(LSTM(units=hp_units)))\n",
    "  model.add(Dense(1, activation='sigmoid'))\n",
    "\n",
    "\n",
    "  model.compile(optimizer='adam',\n",
    "                loss='binary_crossentropy',\n",
    "                metrics=['accuracy'])\n",
    "\n",
    "  return model\n",
    "\n",
    "tuner = kt.Hyperband(bi_model_builder,\n",
    "                     objective='val_accuracy',\n",
    "                     max_epochs=10,\n",
    "                     factor=3,\n",
    "                     directory='my_dir',\n",
    "                     project_name='bilstm_to_kt')\n",
    "callbacks = [ ReduceLROnPlateau(monitor='val_loss', patience=5, cooldown=0),   #Reduce learning rate when a metric has stopped improving. \n",
    "              EarlyStopping(monitor='val_accuracy', min_delta=1e-4, patience=5)]    #Stop training when a monitored metric has stopped improving.\n",
    "\n",
    "tuner.search(X_train, y_train, epochs=20, validation_split=0.1,batch_size=128, callbacks=callbacks)\n",
    "\n",
    "# Get the optimal hyperparameters\n",
    "best_bilstmhps=tuner.get_best_hyperparameters(num_trials=1)[0]\n",
    "\n",
    "print(f\"\"\"\n",
    "The hyperparameter search is complete. The optimal number of units in the Bi-LSTM is {best_bilstmhps.get('units')}.\n",
    "\"\"\")"
   ]
  },
  {
   "cell_type": "markdown",
   "metadata": {
    "id": "649RqOu_BHXu"
   },
   "source": [
    "**5.Final Evaluation**"
   ]
  },
  {
   "cell_type": "markdown",
   "metadata": {
    "id": "P9LU_KD6musT"
   },
   "source": [
    "Logistic regression"
   ]
  },
  {
   "cell_type": "code",
   "execution_count": 14,
   "metadata": {
    "colab": {
     "base_uri": "https://localhost:8080/"
    },
    "id": "5uRuW3i8ObAb",
    "outputId": "e54e534b-a8a4-491a-de24-975f2ef28b4c"
   },
   "outputs": [
    {
     "name": "stdout",
     "output_type": "stream",
     "text": [
      "Accuracy: 76.87666666666667%\n"
     ]
    }
   ],
   "source": [
    "y_pred_lr = mylogre.predict(X_test_vec)\n",
    "accuracy_lr = accuracy_score(y_test, y_pred_lr)\n",
    "print(f\"Accuracy: {accuracy_lr*100}%\")"
   ]
  },
  {
   "cell_type": "code",
   "execution_count": null,
   "metadata": {
    "colab": {
     "base_uri": "https://localhost:8080/",
     "height": 631
    },
    "id": "MSfBOEA-muGO",
    "outputId": "2e4472f3-8381-4fdc-dddb-2a0f79d5425f"
   },
   "outputs": [
    {
     "name": "stdout",
     "output_type": "stream",
     "text": [
      "              precision    recall  f1-score   support\n",
      "\n",
      "           0       0.78      0.74      0.76     29850\n",
      "           1       0.76      0.79      0.77     30150\n",
      "\n",
      "    accuracy                           0.77     60000\n",
      "   macro avg       0.77      0.77      0.77     60000\n",
      "weighted avg       0.77      0.77      0.77     60000\n",
      "\n"
     ]
    },
    {
     "data": {
      "image/png": "[encoded data removed]",
      "text/plain": [
       "<Figure size 640x480 with 2 Axes>"
      ]
     },
     "metadata": {},
     "output_type": "display_data"
    },
    {
     "name": "stdout",
     "output_type": "stream",
     "text": [
      "0.7653\n"
     ]
    }
   ],
   "source": [
    "y_pred_lr=[decode_sentiment(i) for i in y_pred_lr]\n",
    "print(classification_report(y_test_1d, y_pred_lr))\n",
    "from sklearn.metrics import confusion_matrix\n",
    "confusion_matrixlr = confusion_matrix(y_test_1d, y_pred_lr)\n",
    "cm_display = ConfusionMatrixDisplay(confusion_matrix = confusion_matrixlr, display_labels = [False, True])\n",
    "cm_display.plot()\n",
    "plt.show()\n",
    "print(accuracy_score(y_test_1d, y_pred_lr))"
   ]
  },
  {
   "cell_type": "markdown",
   "metadata": {
    "id": "9bNz7koUDukK"
   },
   "source": [
    "\n",
    "\n",
    "> Lstm\n",
    "\n"
   ]
  },
  {
   "cell_type": "code",
   "execution_count": null,
   "metadata": {
    "colab": {
     "base_uri": "https://localhost:8080/",
     "height": 685
    },
    "id": "XTwfA5HhDrWz",
    "outputId": "715d5588-0912-4c83-eb5b-722f44cc6ce4"
   },
   "outputs": [
    {
     "name": "stdout",
     "output_type": "stream",
     "text": [
      "235/235 [==============================] - 9s 37ms/step - loss: 0.4908 - accuracy: 0.7574\n",
      "ACCURACY:0.7574\n",
      "LOSS:0.4908\n",
      "235/235 [==============================] - 6s 22ms/step\n",
      "              precision    recall  f1-score   support\n",
      "\n",
      "           0       0.76      0.74      0.75     29850\n",
      "           1       0.75      0.77      0.76     30150\n",
      "\n",
      "    accuracy                           0.76     60000\n",
      "   macro avg       0.76      0.76      0.76     60000\n",
      "weighted avg       0.76      0.76      0.76     60000\n",
      "\n"
     ]
    },
    {
     "data": {
      "image/png": "[encoded data removed]",
      "text/plain": [
       "<Figure size 640x480 with 2 Axes>"
      ]
     },
     "metadata": {},
     "output_type": "display_data"
    }
   ],
   "source": [
    "\n",
    "\n",
    "score = model.evaluate(X_test, y_test, batch_size=BATCH_SIZE)\n",
    "print(f\"ACCURACY:{score[1]:.4f}\")\n",
    "print(f\"LOSS:{score[0]:.4f}\")\n",
    "from sklearn.metrics import confusion_matrix, classification_report, accuracy_score\n",
    "def decode_sentiment(score):\n",
    "    if score>=0.5:\n",
    "      return 1\n",
    "    else:\n",
    "      return 0\n",
    "scores = model.predict(X_test, verbose=1, batch_size=256)\n",
    "y_test_1d = list(y_test)\n",
    "y_pred_lstm = [decode_sentiment(score) for score in scores]\n",
    "\n",
    "print(classification_report(y_test_1d, y_pred_lstm))\n",
    "confusion_matrix = confusion_matrix(y_test_1d, y_pred_lstm)\n",
    "from sklearn.metrics import ConfusionMatrixDisplay\n",
    "cm_display = ConfusionMatrixDisplay(confusion_matrix = confusion_matrix, display_labels = [False, True])\n",
    "cm_display.plot()\n",
    "plt.show()\n",
    "print(accuracy_score(y_test_1d, y_pred_lstm))"
   ]
  },
  {
   "cell_type": "markdown",
   "metadata": {
    "id": "HOXG_UBcfD1-"
   },
   "source": [
    "Bi-LSTM"
   ]
  },
  {
   "cell_type": "code",
   "execution_count": null,
   "metadata": {
    "colab": {
     "base_uri": "https://localhost:8080/",
     "height": 703
    },
    "id": "WSXE4fPKfD2M",
    "outputId": "dbb29f5e-ab55-4736-d75b-945c140d31c5"
   },
   "outputs": [
    {
     "name": "stdout",
     "output_type": "stream",
     "text": [
      "235/235 [==============================] - 16s 70ms/step - loss: 0.4919 - accuracy: 0.7570\n",
      "ACCURACY:0.7570\n",
      "LOSS:0.4919\n",
      "235/235 [==============================] - 13s 53ms/step\n",
      "              precision    recall  f1-score   support\n",
      "\n",
      "           0       0.76      0.76      0.76     29850\n",
      "           1       0.76      0.76      0.76     30150\n",
      "\n",
      "    accuracy                           0.76     60000\n",
      "   macro avg       0.76      0.76      0.76     60000\n",
      "weighted avg       0.76      0.76      0.76     60000\n",
      "\n"
     ]
    },
    {
     "data": {
      "image/png": "[encoded data removed]",
      "text/plain": [
       "<Figure size 640x480 with 2 Axes>"
      ]
     },
     "metadata": {},
     "output_type": "display_data"
    },
    {
     "name": "stdout",
     "output_type": "stream",
     "text": [
      "0.7569833333333333\n"
     ]
    }
   ],
   "source": [
    "score_bi = model_bi.evaluate(X_test, y_test, batch_size=BATCH_SIZE)\n",
    "\n",
    "print(f\"ACCURACY:{score_bi[1]:.4f}\")\n",
    "print(f\"LOSS:{score_bi[0]:.4f}\")\n",
    "scores_bi = model_bi.predict(X_test, verbose=1, batch_size=256)\n",
    "y_pred_bi = [decode_sentiment(score) for score in scores_bi]\n",
    "print(classification_report(y_test_1d, y_pred_bi))\n",
    "from sklearn.metrics import confusion_matrix\n",
    "confusion_matrixbi = confusion_matrix(y_test_1d, y_pred_bi)\n",
    "cm_display = ConfusionMatrixDisplay(confusion_matrix = confusion_matrixbi, display_labels = [False, True])\n",
    "cm_display.plot()\n",
    "plt.show()\n",
    "print(accuracy_score(y_test_1d, y_pred_bi))"
   ]
  }
 ],
 "metadata": {
  "colab": {
   "gpuType": "T4",
   "provenance": []
  },
  "gpuClass": "standard",
  "kernelspec": {
   "display_name": "Python 3 (ipykernel)",
   "language": "python",
   "name": "python3"
  },
  "language_info": {
   "codemirror_mode": {
    "name": "ipython",
    "version": 3
   },
   "file_extension": ".py",
   "mimetype": "text/x-python",
   "name": "python",
   "nbconvert_exporter": "python",
   "pygments_lexer": "ipython3",
   "version": "3.9.16"
  }
 },
 "nbformat": 4,
 "nbformat_minor": 1
}
